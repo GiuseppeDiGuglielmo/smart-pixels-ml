{
 "cells": [
  {
   "cell_type": "code",
   "execution_count": 17,
   "id": "e585c8a2-b0fe-485f-b329-33006fbb61be",
   "metadata": {},
   "outputs": [],
   "source": [
    "from tensorflow.keras.optimizers import Adam\n",
    "from keras.utils import Sequence\n",
    "\n",
    "import pandas as pd\n",
    "import matplotlib.pyplot as plt\n",
    "import seaborn as sns\n",
    "import os\n",
    "\n",
    "pi = 3.14159265359\n",
    "\n",
    "maxval=1e9\n",
    "minval=1e-9"
   ]
  },
  {
   "cell_type": "code",
   "execution_count": 18,
   "id": "541b807f-a778-43f9-898e-5d86b73b6a40",
   "metadata": {},
   "outputs": [],
   "source": [
    "from dataprep import *\n",
    "from loss import *\n",
    "from models.models import *"
   ]
  },
  {
   "cell_type": "code",
   "execution_count": 44,
   "id": "f3fbdfaa-2b97-43d1-81cb-a7f96f0de130",
   "metadata": {},
   "outputs": [
    {
     "name": "stdout",
     "output_type": "stream",
     "text": [
      "Model: \"model_6\"\n",
      "_________________________________________________________________\n",
      " Layer (type)                Output Shape              Param #   \n",
      "=================================================================\n",
      " input_7 (InputLayer)        [(None, 13, 21, 20)]      0         \n",
      "                                                                 \n",
      " q_separable_conv2d_6 (QSep  (None, 11, 19, 5)         285       \n",
      " arableConv2D)                                                   \n",
      "                                                                 \n",
      " q_activation_30 (QActivati  (None, 11, 19, 5)         0         \n",
      " on)                                                             \n",
      "                                                                 \n",
      " q_conv2d_6 (QConv2D)        (None, 11, 19, 5)         30        \n",
      "                                                                 \n",
      " q_activation_31 (QActivati  (None, 11, 19, 5)         0         \n",
      " on)                                                             \n",
      "                                                                 \n",
      " average_pooling2d_6 (Avera  (None, 3, 6, 5)           0         \n",
      " gePooling2D)                                                    \n",
      "                                                                 \n",
      " q_activation_32 (QActivati  (None, 3, 6, 5)           0         \n",
      " on)                                                             \n",
      "                                                                 \n",
      " flatten_6 (Flatten)         (None, 90)                0         \n",
      "                                                                 \n",
      " q_dense_18 (QDense)         (None, 16)                1456      \n",
      "                                                                 \n",
      " q_activation_33 (QActivati  (None, 16)                0         \n",
      " on)                                                             \n",
      "                                                                 \n",
      " q_dense_19 (QDense)         (None, 16)                272       \n",
      "                                                                 \n",
      " q_activation_34 (QActivati  (None, 16)                0         \n",
      " on)                                                             \n",
      "                                                                 \n",
      " q_dense_20 (QDense)         (None, 14)                238       \n",
      "                                                                 \n",
      "=================================================================\n",
      "Total params: 2281 (8.91 KB)\n",
      "Trainable params: 2281 (8.91 KB)\n",
      "Non-trainable params: 0 (0.00 Byte)\n",
      "_________________________________________________________________\n"
     ]
    }
   ],
   "source": [
    "model=CreateModel((13,21,20),n_filters=5,pool_size=3)\n",
    "model.summary()"
   ]
  },
  {
   "cell_type": "code",
   "execution_count": 45,
   "id": "0534cba2-e503-4f67-b3b8-10dd8ac39d18",
   "metadata": {},
   "outputs": [],
   "source": [
    "model.compile(optimizer=Adam(learning_rate=0.001), loss=custom_loss)"
   ]
  },
  {
   "cell_type": "code",
   "execution_count": 46,
   "id": "e9c498e2-3971-471e-a2b6-9b44385cfd24",
   "metadata": {},
   "outputs": [],
   "source": [
    "# get best weights file\n",
    "pitch = '100x25x150'\n",
    "date = '14Nov2024'\n",
    "batch_size = 5000\n",
    "files = os.listdir('/home/dajiang/smart-pixels-ml/weights/weights_7pitches/dataset_3sr_weights/weights-{}-bs{}-{}-checkpoints'.format(pitch, batch_size, date))\n",
    "\n",
    "vlosses = [float(f.split(\"-v\")[1].split(\".hdf5\")[0]) for f in files]\n",
    "bestfile = files[np.argmin(vlosses)]\n",
    "model.load_weights('/home/dajiang/smart-pixels-ml/weights/weights_7pitches/dataset_3sr_weights/weights-{}-bs{}-{}-checkpoints/'.format(pitch, batch_size, date)+bestfile)"
   ]
  },
  {
   "cell_type": "code",
   "execution_count": 47,
   "id": "4bceca58-4cbb-4cc6-8507-eec944d9c3ea",
   "metadata": {},
   "outputs": [
    {
     "data": {
      "text/plain": [
       "'weights.266-t-25846.52-v-27459.19.hdf5'"
      ]
     },
     "execution_count": 47,
     "metadata": {},
     "output_type": "execute_result"
    }
   ],
   "source": [
    "bestfile"
   ]
  },
  {
   "cell_type": "markdown",
   "id": "aba0a0d9-24e7-4cdf-a046-37cdd62fc48c",
   "metadata": {},
   "source": [
    "#### Scaling Lists for Different Pixel Pitches:\n",
    "* 100x25x100 um:  [150.0, 37.5, 10.0, 1.22]\n",
    "* 50x25x100 um:   [75.0, 37.5, 10.0, 1.22]\n",
    "* 50x20x100 um:   [75.0, 30.0, 10.0, 1.22]\n",
    "* 50x15x100 um:   [75.0, 22.5, 10.0, 1.22]\n",
    "* 50x12.5x100 um: [75.0, 18.75, 10.0, 1.22]\n",
    "* 50x10x100 um:   [75.0, 15.0, 10.0, 1.22]\n",
    "\n",
    "#### Scaling Lists for Different Pixel Pitches (dataset_3sr):\n",
    "* 100x25x100 um:  [150.0, 37.5, 10.0, 10.0]\n",
    "* 50x25x100 um:   [75.0, 37.5, 10.0, 10.0]\n",
    "* 50x20x100 um:   [75.0, 30.0, 10.0, 10.0]\n",
    "* 50x15x100 um:   [75.0, 22.5, 10.0, 10.0]\n",
    "* 50x12.5x100 um: [75.0, 18.75, 10.0, 10.0]\n",
    "* 50x10x100 um:   [75.0, 15.0, 10.0, 10.0]"
   ]
  },
  {
   "cell_type": "code",
   "execution_count": 48,
   "id": "db70942f-f779-4659-ab03-578201ae8412",
   "metadata": {},
   "outputs": [],
   "source": [
    "val_batch_size = 5000\n",
    "val_file_size = 10\n",
    "\n",
    "tfrecords_dir_val = \"/data/dajiang/smartPixels/tfrecords/tfrecords_dataset_3sr_100x25x150_20t_bs5000_val\"\n",
    "\n",
    "test_generator = OptimizedDataGenerator(\n",
    "    data_directory_path = \"/data/dajiang/smartPixels/dataset_3s/dataset_3sr_100x25x150_parquets/unflipped/recon3D/\",\n",
    "    labels_directory_path = \"/data/dajiang/smartPixels/dataset_3s/dataset_3sr_100x25x150_parquets/unflipped/labels/\",\n",
    "    is_directory_recursive = False,\n",
    "    file_type = \"parquet\",\n",
    "    data_format = \"3D\",\n",
    "    batch_size = val_batch_size,\n",
    "    file_count = val_file_size,\n",
    "    to_standardize= True,\n",
    "    include_y_local= False,\n",
    "    labels_list = ['x-midplane','y-midplane','cotAlpha','cotBeta'],\n",
    "    scaling_list = [150.0, 37.5, 10.0, 10.0],\n",
    "    input_shape = (20,13,21),\n",
    "    transpose = (0,2,3,1),\n",
    "    files_from_end = True,\n",
    "    shuffle = False,\n",
    "\n",
    "    load_from_tfrecords_dir = \"/data/dajiang/smartPixels/tfrecords/tfrecords_dataset_3sr_100x25x150_20t_bs5000_val\",\n",
    "    tfrecords_dir = tfrecords_dir_val,\n",
    "    use_time_stamps = -1, #-1\n",
    "    max_workers = 1, # Don't make this too large (will use up all RAM)\n",
    "    seed = 10,\n",
    "    quantize = True # Quantization ON\n",
    ")"
   ]
  },
  {
   "cell_type": "code",
   "execution_count": 49,
   "id": "10f180d0-98d6-49d2-bd95-c83231e0ab13",
   "metadata": {},
   "outputs": [
    {
     "name": "stdout",
     "output_type": "stream",
     "text": [
      "47/47 [==============================] - 38s 822ms/step\n"
     ]
    }
   ],
   "source": [
    "# predicts test data\n",
    "p_test = model.predict(test_generator)\n",
    "\n",
    "complete_truth = None\n",
    "for _, y in test_generator:\n",
    "    if complete_truth is None:\n",
    "        complete_truth = y\n",
    "    else:\n",
    "        complete_truth = np.concatenate((complete_truth, y), axis=0)\n",
    "\n",
    "# creates df with all predicted values and matrix elements - 4 predictions, all 10 unique matrix elements\n",
    "df = pd.DataFrame(p_test,columns=['x','M11','y','M22','cotA','M33','cotB','M44','M21','M31','M32','M41','M42','M43'])\n",
    "\n",
    "# stores all true values in same matrix as xtrue, ytrue, etc.\n",
    "df['xtrue'] = complete_truth[:,0]\n",
    "df['ytrue'] = complete_truth[:,1]\n",
    "df['cotAtrue'] = complete_truth[:,2]\n",
    "df['cotBtrue'] = complete_truth[:,3]\n",
    "df['M11'] = minval+tf.math.maximum(df['M11'], 0)\n",
    "df['M22'] = minval+tf.math.maximum(df['M22'], 0)\n",
    "df['M33'] = minval+tf.math.maximum(df['M33'], 0)\n",
    "df['M44'] = minval+tf.math.maximum(df['M44'], 0)\n",
    "\n",
    "df['sigmax'] = abs(df['M11'])\n",
    "df['sigmay'] = np.sqrt(df['M21']**2 + df['M22']**2)\n",
    "df['sigmacotA'] = np.sqrt(df['M31']**2+df['M32']**2+df['M33']**2)\n",
    "df['sigmacotB'] = np.sqrt(df['M41']**2+df['M42']**2+df['M43']**2+df['M44']**2)\n",
    "\n",
    "# calculates residuals for x, y, cotA, cotB\n",
    "df['residualsX'] = df['xtrue'] - df['x']\n",
    "df['residualsY'] = df['ytrue'] - df['y']\n",
    "df['residualsA'] = df['cotAtrue'] - df['cotA']\n",
    "df['residualsB'] = df['cotBtrue'] - df['cotB']\n",
    "\n",
    "# calculates pulls for x, y, cotA, cotB\n",
    "df['pullx'] = (df['xtrue']-df['x'])/df['sigmax']\n",
    "df['pully'] = (df['ytrue']-df['y'])/df['sigmay']\n",
    "df['pullcotA'] = (df['cotAtrue']-df['cotA'])/df['sigmacotA']\n",
    "df['pullcotB'] = (df['cotBtrue']-df['cotB'])/df['sigmacotB']\n",
    "\n",
    "# stores results as parquet\n",
    "df.to_parquet(\"/home/dajiang/smart-pixels-ml/processed_parquets/dataset_3sr/{}_bs{}_{}_20t_dataset3sr_vars.parquet\".format(pitch, batch_size, date))"
   ]
  },
  {
   "cell_type": "code",
   "execution_count": null,
   "id": "4e863346-4444-4388-b5bc-9a1ce7a264ce",
   "metadata": {},
   "outputs": [],
   "source": []
  }
 ],
 "metadata": {
  "kernelspec": {
   "display_name": "Python 3.8",
   "language": "python",
   "name": "py38"
  },
  "language_info": {
   "codemirror_mode": {
    "name": "ipython",
    "version": 3
   },
   "file_extension": ".py",
   "mimetype": "text/x-python",
   "name": "python",
   "nbconvert_exporter": "python",
   "pygments_lexer": "ipython3",
   "version": "3.8.10"
  }
 },
 "nbformat": 4,
 "nbformat_minor": 5
}
