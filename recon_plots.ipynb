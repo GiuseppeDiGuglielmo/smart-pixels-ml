{
 "cells": [
  {
   "cell_type": "code",
   "execution_count": 1,
   "id": "8e6bab43-bd05-4bbe-bbd8-2b54c12ff65f",
   "metadata": {},
   "outputs": [
    {
     "name": "stderr",
     "output_type": "stream",
     "text": [
      "2024-09-10 04:32:32.248962: I tensorflow/core/platform/cpu_feature_guard.cc:182] This TensorFlow binary is optimized to use available CPU instructions in performance-critical operations.\n",
      "To enable the following instructions: AVX2 FMA, in other operations, rebuild TensorFlow with the appropriate compiler flags.\n",
      "2024-09-10 04:32:33.256560: W tensorflow/compiler/tf2tensorrt/utils/py_utils.cc:38] TF-TRT Warning: Could not find TensorRT\n"
     ]
    }
   ],
   "source": [
    "from dataprep import *\n",
    "#from dataloaders.OptimizedDataGenerator import OptimizedDataGenerator\n",
    "from loss import *\n",
    "from models import *\n",
    "\n",
    "from tqdm import tqdm\n",
    "import matplotlib.pyplot as plt\n",
    "from matplotlib.ticker import (MultipleLocator, AutoMinorLocator)"
   ]
  },
  {
   "cell_type": "markdown",
   "id": "13f09d02-ea22-4535-a01b-26a3e7ee5e15",
   "metadata": {},
   "source": [
    "## 100x25x150 um"
   ]
  },
  {
   "cell_type": "code",
   "execution_count": null,
   "id": "45af6262-b87c-4fbc-a842-681e9e5580ef",
   "metadata": {},
   "outputs": [
    {
     "name": "stderr",
     "output_type": "stream",
     "text": [
      "Processing Files:  71%|███████   | 29/41 [07:51<03:20, 16.72s/it]"
     ]
    }
   ],
   "source": [
    "batch_size = 5000\n",
    "val_batch_size = 5000\n",
    "train_file_size = 50\n",
    "\n",
    "# 100x25x100 um\n",
    "pitch_1 = CustomDataGenerator(\n",
    "    data_directory_path = \"/data/dajiang/smartPixels/dataset_4s/dataset_4s_100x25x150_parquets/unflipped/recon3D/\",\n",
    "    labels_directory_path = \"/data/dajiang/smartPixels/dataset_4s/dataset_4s_100x25x150_parquets/unflipped/labels/\",\n",
    "    is_directory_recursive = False,\n",
    "    file_type = \"parquet\",\n",
    "    data_format = \"3D\",\n",
    "    batch_size = batch_size,\n",
    "    file_count = train_file_size,\n",
    "    to_standardize= True,\n",
    "    include_y_local= False,\n",
    "    labels_list = ['x-midplane','y-midplane','cotAlpha','cotBeta'],\n",
    "    scaling_list = [150.0, 37.5, 10.0, 1.22],\n",
    "    input_shape = (20,13,21),\n",
    "    transpose = (0,2,3,1),\n",
    "    shuffle= True\n",
    ")"
   ]
  },
  {
   "cell_type": "markdown",
   "id": "8205f810-5600-4233-83f0-35008c8de1d1",
   "metadata": {},
   "source": [
    "## 100x25x100 um"
   ]
  },
  {
   "cell_type": "code",
   "execution_count": null,
   "id": "14a6212c-ebfa-4493-9840-e2e21f7e4ba3",
   "metadata": {},
   "outputs": [],
   "source": [
    "batch_size = 5000\n",
    "val_batch_size = 5000\n",
    "train_file_size = 50\n",
    "\n",
    "# 100x25x100 um\n",
    "pitch_2 = CustomDataGenerator(\n",
    "    data_directory_path = \"/data/dajiang/smartPixels/dataset_4s/dataset_4s_100x25_parquets/unflipped/recon3D/\",\n",
    "    labels_directory_path = \"/data/dajiang/smartPixels/dataset_4s/dataset_4s_100x25_parquets/unflipped/labels/\",\n",
    "    is_directory_recursive = False,\n",
    "    file_type = \"parquet\",\n",
    "    data_format = \"3D\",\n",
    "    batch_size = batch_size,\n",
    "    file_count = train_file_size,\n",
    "    to_standardize= True,\n",
    "    include_y_local= False,\n",
    "    labels_list = ['x-midplane','y-midplane','cotAlpha','cotBeta'],\n",
    "    scaling_list = [150.0, 37.5, 10.0, 1.22],\n",
    "    input_shape = (20,13,21),\n",
    "    transpose = (0,2,3,1),\n",
    "    shuffle= True\n",
    ")"
   ]
  },
  {
   "cell_type": "markdown",
   "id": "de61b319-f7ed-4f91-befb-b95b47fb1a88",
   "metadata": {},
   "source": [
    "## 50x25x100 um"
   ]
  },
  {
   "cell_type": "code",
   "execution_count": null,
   "id": "ca5b6033-b7a1-470c-9d0a-3918e3e3304a",
   "metadata": {},
   "outputs": [],
   "source": [
    "batch_size = 5000\n",
    "val_batch_size = 5000\n",
    "train_file_size = 50\n",
    "\n",
    "# 50x25x100 um\n",
    "pitch_3 = CustomDataGenerator(\n",
    "    data_directory_path = \"/data/dajiang/smartPixels/dataset_4s/dataset_4s_50x25_parquets/unflipped/recon3D/\",\n",
    "    labels_directory_path = \"/data/dajiang/smartPixels/dataset_4s/dataset_4s_50x25_parquets/unflipped/labels/\",\n",
    "    is_directory_recursive = False,\n",
    "    file_type = \"parquet\",\n",
    "    data_format = \"3D\",\n",
    "    batch_size = batch_size,\n",
    "    file_count = train_file_size,\n",
    "    to_standardize= True,\n",
    "    include_y_local= False,\n",
    "    labels_list = ['x-midplane','y-midplane','cotAlpha','cotBeta'],\n",
    "    scaling_list = [75.0, 37.5, 10.0, 1.22],\n",
    "    input_shape = (20,13,21),\n",
    "    transpose = (0,2,3,1),\n",
    "    shuffle= True\n",
    ")"
   ]
  },
  {
   "cell_type": "markdown",
   "id": "cba2aee9-66df-493f-8af0-81c24d4f0c3c",
   "metadata": {},
   "source": [
    "## 50x20x100 um"
   ]
  },
  {
   "cell_type": "code",
   "execution_count": null,
   "id": "f4cd218b-033f-404d-b7a4-e4a50f0c0f4c",
   "metadata": {},
   "outputs": [],
   "source": [
    "batch_size = 5000\n",
    "val_batch_size = 5000\n",
    "train_file_size = 50\n",
    "\n",
    "# 50x20x100 um\n",
    "pitch_4 = CustomDataGenerator(\n",
    "    data_directory_path = \"/data/dajiang/smartPixels/dataset_4s/dataset_4s_50x20_parquets/unflipped/recon3D/\",\n",
    "    labels_directory_path = \"/data/dajiang/smartPixels/dataset_4s/dataset_4s_50x20_parquets/unflipped/labels/\",\n",
    "    is_directory_recursive = False,\n",
    "    file_type = \"parquet\",\n",
    "    data_format = \"3D\",\n",
    "    batch_size = batch_size,\n",
    "    file_count = train_file_size,\n",
    "    to_standardize= True,\n",
    "    include_y_local= False,\n",
    "    labels_list = ['x-midplane','y-midplane','cotAlpha','cotBeta'],\n",
    "    scaling_list = [75.0, 30.0, 10.0, 1.22],\n",
    "    input_shape = (20,13,21),\n",
    "    transpose = (0,2,3,1),\n",
    "    shuffle= True\n",
    ")"
   ]
  },
  {
   "cell_type": "markdown",
   "id": "227d99b1-ace1-4470-8449-0f3561989243",
   "metadata": {},
   "source": [
    "## 50x15x100 um"
   ]
  },
  {
   "cell_type": "code",
   "execution_count": null,
   "id": "35a303d3-e8a5-4196-b745-a85a387aa6e6",
   "metadata": {},
   "outputs": [],
   "source": [
    "batch_size = 5000\n",
    "val_batch_size = 5000\n",
    "train_file_size = 50\n",
    "\n",
    "# 50x15x100 um\n",
    "pitch_5 = CustomDataGenerator(\n",
    "    data_directory_path = \"/data/dajiang/smartPixels/dataset_4s/dataset_4s_50x15_parquets/unflipped/recon3D/\",\n",
    "    labels_directory_path = \"/data/dajiang/smartPixels/dataset_4s/dataset_4s_50x15_parquets/unflipped/labels/\",\n",
    "    is_directory_recursive = False,\n",
    "    file_type = \"parquet\",\n",
    "    data_format = \"3D\",\n",
    "    batch_size = batch_size,\n",
    "    file_count = train_file_size,\n",
    "    to_standardize= True,\n",
    "    include_y_local= False,\n",
    "    labels_list = ['x-midplane','y-midplane','cotAlpha','cotBeta'],\n",
    "    scaling_list = [75.0, 22.5, 10.0, 1.22],\n",
    "    input_shape = (20,13,21),\n",
    "    transpose = (0,2,3,1),\n",
    "    shuffle= True\n",
    ")"
   ]
  },
  {
   "cell_type": "markdown",
   "id": "ca546bb8-e8c2-4713-9863-0adce549b010",
   "metadata": {},
   "source": [
    "## 50x12.5x100 um (Default)"
   ]
  },
  {
   "cell_type": "code",
   "execution_count": null,
   "id": "069df4db-68f5-40b8-84d6-753383623c0e",
   "metadata": {},
   "outputs": [],
   "source": [
    "batch_size = 5000\n",
    "val_batch_size = 5000\n",
    "train_file_size = 50\n",
    "\n",
    "# 50x12.5x100 um\n",
    "pitch_6 = CustomDataGenerator(\n",
    "    data_directory_path = \"/data/dajiang/smartPixels/dataset_4s/dataset_4s_50x12P5_parquets/unflipped/recon3D/\",\n",
    "    labels_directory_path = \"/data/dajiang/smartPixels/dataset_4s/dataset_4s_50x12P5_parquets/unflipped/labels/\",\n",
    "    is_directory_recursive = False,\n",
    "    file_type = \"parquet\",\n",
    "    data_format = \"3D\",\n",
    "    batch_size = batch_size,\n",
    "    file_count = train_file_size,\n",
    "    to_standardize= True,\n",
    "    include_y_local= False,\n",
    "    labels_list = ['x-midplane','y-midplane','cotAlpha','cotBeta'],\n",
    "    scaling_list = [75.0, 18.75, 10.0, 1.22],\n",
    "    input_shape = (20,13,21),\n",
    "    transpose = (0,2,3,1),\n",
    "    shuffle= True\n",
    ")"
   ]
  },
  {
   "cell_type": "markdown",
   "id": "9749eb29-ccdc-470d-931a-f98ef1da76d1",
   "metadata": {},
   "source": [
    "## 50x10x100 um"
   ]
  },
  {
   "cell_type": "code",
   "execution_count": null,
   "id": "92f39f5e-064d-4fdc-b643-78b73df384ae",
   "metadata": {},
   "outputs": [],
   "source": [
    "batch_size = 5000\n",
    "val_batch_size = 5000\n",
    "train_file_size = 50\n",
    "\n",
    "# 50x10x100 um\n",
    "pitch_7 = CustomDataGenerator(\n",
    "    data_directory_path = \"/data/dajiang/smartPixels/dataset_4s/dataset_4s_50x10_parquets/unflipped/recon3D/\",\n",
    "    labels_directory_path = \"/data/dajiang/smartPixels/dataset_4s/dataset_4s_50x10_parquets/unflipped/labels/\",\n",
    "    is_directory_recursive = False,\n",
    "    file_type = \"parquet\",\n",
    "    data_format = \"3D\",\n",
    "    batch_size = batch_size,\n",
    "    file_count = train_file_size,\n",
    "    to_standardize= True,\n",
    "    include_y_local= False,\n",
    "    labels_list = ['x-midplane','y-midplane','cotAlpha','cotBeta'],\n",
    "    scaling_list = [75.0, 15.0, 10.0, 1.22],\n",
    "    input_shape = (20,13,21),\n",
    "    transpose = (0,2,3,1),\n",
    "    shuffle= True\n",
    ")"
   ]
  },
  {
   "cell_type": "code",
   "execution_count": null,
   "id": "8bc79b7f-bedc-4258-a3a8-787163fae7b1",
   "metadata": {},
   "outputs": [],
   "source": [
    "# Want to save the x and y sizes for each event (pitch 1)\n",
    "x_size_1 = []\n",
    "y_size_1 = []\n",
    "n_batches_1 = pitch_1.__len__()\n",
    "\n",
    "x_size_2 = []\n",
    "y_size_2 = []\n",
    "n_batches_2 = pitch_2.__len__()\n",
    "\n",
    "x_size_3 = []\n",
    "y_size_3 = []\n",
    "n_batches_3 = pitch_3.__len__()\n",
    "\n",
    "x_size_4 = []\n",
    "y_size_4 = []\n",
    "n_batches_4 = pitch_4.__len__()\n",
    "\n",
    "x_size_5 = []\n",
    "y_size_5 = []\n",
    "n_batches_5 = pitch_5.__len__()\n",
    "\n",
    "x_size_6 = []\n",
    "y_size_6 = []\n",
    "n_batches_6 = pitch_6.__len__()\n",
    "\n",
    "x_size_7 = []\n",
    "y_size_7 = []\n",
    "n_batches_7 = pitch_7.__len__()"
   ]
  },
  {
   "cell_type": "code",
   "execution_count": null,
   "id": "f2bad082-c84b-47fa-a818-987249959a45",
   "metadata": {},
   "outputs": [],
   "source": [
    "for i in tqdm(range(n_batches_1)): # 100x25x150\n",
    "    X_train_1, y_train_1 = pitch_1.__getitem__(i) # i-th batch\n",
    "    for j in range(X_train_1.shape[0]): # Loop through each event in the batch, take the last timeslice\n",
    "        y_count_1 = np.count_nonzero(np.any(X_train_1[j][:,:,19] != 0, axis=1)) # rows\n",
    "        x_count_1 = np.count_nonzero(np.any(X_train_1[j][:,:,19] != 0, axis=0)) # columns\n",
    "        x_size_1.append(x_count_1)\n",
    "        y_size_1.append(y_count_1)\n",
    "\n",
    "for i in tqdm(range(n_batches_2)): # 100x25x100\n",
    "    X_train_2, y_train_2 = pitch_2.__getitem__(i) # i-th batch\n",
    "    for j in range(X_train_2.shape[0]): # Loop through each event in the batch, take the last timeslice\n",
    "        y_count_2 = np.count_nonzero(np.any(X_train_2[j][:,:,19] != 0, axis=1)) # rows\n",
    "        x_count_2 = np.count_nonzero(np.any(X_train_2[j][:,:,19] != 0, axis=0)) # columns\n",
    "        x_size_2.append(x_count_2)\n",
    "        y_size_2.append(y_count_2)\n",
    "\n",
    "for i in tqdm(range(n_batches_3)): # 50x25x100\n",
    "    X_train_3, y_train_3 = pitch_3.__getitem__(i) # i-th batch\n",
    "    for j in range(X_train_3.shape[0]): # Loop through each event in the batch, take the last timeslice\n",
    "        y_count_3 = np.count_nonzero(np.any(X_train_3[j][:,:,19] != 0, axis=1)) # rows\n",
    "        x_count_3 = np.count_nonzero(np.any(X_train_3[j][:,:,19] != 0, axis=0)) # columns\n",
    "        x_size_3.append(x_count_3)\n",
    "        y_size_3.append(y_count_3)\n",
    "\n",
    "for i in tqdm(range(n_batches_4)): # 50x20x100\n",
    "    X_train_4, y_train_4 = pitch_4.__getitem__(i) # i-th batch\n",
    "    for j in range(X_train_4.shape[0]): # Loop through each event in the batch, take the last timeslice\n",
    "        y_count_4 = np.count_nonzero(np.any(X_train_4[j][:,:,19] != 0, axis=1)) # rows\n",
    "        x_count_4 = np.count_nonzero(np.any(X_train_4[j][:,:,19] != 0, axis=0)) # columns\n",
    "        x_size_4.append(x_count_4)\n",
    "        y_size_4.append(y_count_4)\n",
    "\n",
    "for i in tqdm(range(n_batches_5)): # 50x15x100\n",
    "    X_train_5, y_train_5 = pitch_5.__getitem__(i) # i-th batch\n",
    "    for j in range(X_train_5.shape[0]): # Loop through each event in the batch, take the last timeslice\n",
    "        y_count_5 = np.count_nonzero(np.any(X_train_5[j][:,:,19] != 0, axis=1)) # rows\n",
    "        x_count_5 = np.count_nonzero(np.any(X_train_5[j][:,:,19] != 0, axis=0)) # columns\n",
    "        x_size_5.append(x_count_5)\n",
    "        y_size_5.append(y_count_5)\n",
    "\n",
    "for i in tqdm(range(n_batches_6)): # 50x12.5x100\n",
    "    X_train_6, y_train_6 = pitch_6.__getitem__(i) # i-th batch\n",
    "    for j in range(X_train_6.shape[0]): # Loop through each event in the batch, take the last timeslice\n",
    "        y_count_6 = np.count_nonzero(np.any(X_train_6[j][:,:,19] != 0, axis=1)) # rows\n",
    "        x_count_6 = np.count_nonzero(np.any(X_train_6[j][:,:,19] != 0, axis=0)) # columns\n",
    "        x_size_6.append(x_count_6)\n",
    "        y_size_6.append(y_count_6)\n",
    "\n",
    "for i in tqdm(range(n_batches_7)): # 50x10x100\n",
    "    X_train_7, y_train_7 = pitch_7.__getitem__(i) # i-th batch\n",
    "    for j in range(X_train_7.shape[0]): # Loop through each event in the batch, take the last timeslice\n",
    "        y_count_7 = np.count_nonzero(np.any(X_train_7[j][:,:,19] != 0, axis=1)) # rows\n",
    "        x_count_7 = np.count_nonzero(np.any(X_train_7[j][:,:,19] != 0, axis=0)) # columns\n",
    "        x_size_7.append(x_count_7)\n",
    "        y_size_7.append(y_count_7)"
   ]
  },
  {
   "cell_type": "markdown",
   "id": "968e6ddd-d2ba-4bd8-970c-73a5417bce5f",
   "metadata": {},
   "source": [
    "## Plot Cluster Sizes"
   ]
  },
  {
   "cell_type": "code",
   "execution_count": 13,
   "id": "859b9b18-509d-4fd1-8a56-192d5966a478",
   "metadata": {},
   "outputs": [
    {
     "data": {
      "image/png": "[encoded data removed]",
      "text/plain": [
       "<Figure size 640x480 with 1 Axes>"
      ]
     },
     "metadata": {},
     "output_type": "display_data"
    }
   ],
   "source": [
    "# y-size\n",
    "bins=np.linspace(-0.5,13.5,15)\n",
    "y_size_1 = np.array(y_size_1)\n",
    "y_size_2 = np.array(y_size_2)\n",
    "y_size_3 = np.array(y_size_3)\n",
    "y_size_4 = np.array(y_size_4)\n",
    "y_size_5 = np.array(y_size_5)\n",
    "y_size_6 = np.array(y_size_6)\n",
    "y_size_7 = np.array(y_size_7)\n",
    "\n",
    "fig, ax = plt.subplots()\n",
    "ax.hist(y_size_1, color=\"red\", bins=bins, histtype=\"step\", density=True, label=\"100x25x150\")\n",
    "ax.hist(y_size_2, color=\"cyan\", bins=bins, histtype=\"step\", density=True, label=\"100x25x100\")\n",
    "ax.hist(y_size_3, color=\"green\", bins=bins, histtype=\"step\", density=True, label=\"50x25x100\")\n",
    "ax.hist(y_size_4, color=\"blue\", bins=bins, histtype=\"step\", density=True, label=\"50x20x100\")\n",
    "ax.hist(y_size_5, color=\"orange\", bins=bins, histtype=\"step\", density=True, label=\"50x15x100\")\n",
    "ax.hist(y_size_6, color=\"purple\", bins=bins, histtype=\"step\", density=True, label=\"50x12.5x100\")\n",
    "ax.hist(y_size_7, color=\"black\", bins=bins, histtype=\"step\", density=True, label=\"50x10x100\")\n",
    "\n",
    "ax.legend()\n",
    "ax.set_title(\"y-profile\")\n",
    "ax.set_xlabel(\"y-size [pixels]\")\n",
    "ax.set_ylabel(\"Frequency of Events\")\n",
    "#fig.savefig('plots/y_size_all_dataset_2s.png',dpi=300)\n",
    "fig.show()"
   ]
  },
  {
   "cell_type": "code",
   "execution_count": 14,
   "id": "63162245-b28d-4476-9a37-05dd2edb9809",
   "metadata": {},
   "outputs": [
    {
     "data": {
      "image/png": "[encoded data removed]",
      "text/plain": [
       "<Figure size 640x480 with 1 Axes>"
      ]
     },
     "metadata": {},
     "output_type": "display_data"
    }
   ],
   "source": [
    "# y-size\n",
    "bins=np.linspace(-0.5,13.5,15)\n",
    "x_size_1 = np.array(x_size_1)\n",
    "x_size_2 = np.array(x_size_2)\n",
    "x_size_3 = np.array(x_size_3)\n",
    "x_size_4 = np.array(x_size_4)\n",
    "x_size_5 = np.array(x_size_5)\n",
    "x_size_6 = np.array(x_size_6)\n",
    "x_size_7 = np.array(x_size_7)\n",
    "\n",
    "fig, ax = plt.subplots()\n",
    "ax.hist(x_size_1, color=\"red\", bins=bins, histtype=\"step\", density=True, label=\"100x25x150\")\n",
    "ax.hist(x_size_2, color=\"cyan\", bins=bins, histtype=\"step\", density=True, label=\"100x25x100\")\n",
    "ax.hist(x_size_3, color=\"green\", bins=bins, histtype=\"step\", density=True, label=\"50x25x100\")\n",
    "ax.hist(x_size_4, color=\"blue\", bins=bins, histtype=\"step\", density=True, label=\"50x20x100\")\n",
    "ax.hist(x_size_5, color=\"orange\", bins=bins, histtype=\"step\", density=True, label=\"50x15x100\")\n",
    "ax.hist(x_size_6, color=\"purple\", bins=bins, histtype=\"step\", density=True, label=\"50x12.5x100\")\n",
    "ax.hist(x_size_7, color=\"black\", bins=bins, histtype=\"step\", density=True, label=\"50x10x100\")\n",
    "\n",
    "ax.legend()\n",
    "ax.set_title(\"x-profile\")\n",
    "ax.set_xlabel(\"x-size [pixels]\")\n",
    "ax.set_ylabel(\"Frequency of Events\")\n",
    "#fig.savefig('plots/x_size_all_dataset_2s.png',dpi=300)\n",
    "fig.show()"
   ]
  },
  {
   "cell_type": "code",
   "execution_count": null,
   "id": "f5dcabc8-b3eb-4e55-bb1e-807b0b902101",
   "metadata": {},
   "outputs": [],
   "source": []
  }
 ],
 "metadata": {
  "kernelspec": {
   "display_name": "Python 3.8",
   "language": "python",
   "name": "py38"
  },
  "language_info": {
   "codemirror_mode": {
    "name": "ipython",
    "version": 3
   },
   "file_extension": ".py",
   "mimetype": "text/x-python",
   "name": "python",
   "nbconvert_exporter": "python",
   "pygments_lexer": "ipython3",
   "version": "3.8.10"
  }
 },
 "nbformat": 4,
 "nbformat_minor": 5
}
