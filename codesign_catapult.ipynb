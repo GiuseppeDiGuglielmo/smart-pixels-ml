{
 "cells": [
  {
   "cell_type": "markdown",
   "id": "b7688608-72b8-43fc-a188-103a761c20d5",
   "metadata": {},
   "source": [
    "# Catapult codesign\n",
    "\n",
    "Model: `(13,21,2), n_filters=5, pool_size=3`"
   ]
  },
  {
   "cell_type": "markdown",
   "id": "8e68ae6a-98cf-4708-9c18-855d682cad2d",
   "metadata": {},
   "source": [
    "## Setup"
   ]
  },
  {
   "cell_type": "markdown",
   "id": "19dc512c-ef20-4a9e-8e1d-ab67b085ded9",
   "metadata": {},
   "source": [
    "Please follow [these instructions](https://github.com/GiuseppeDiGuglielmo/catapult_venvs) to setup an environment for Catapult AI NN (_hls4ml_).\n",
    "\n",
    "You can either use the _hls4ml_ release with Catapult (2024.2) or point to Siemens or official GitHub repository. [Here we provide some details.](https://github.com/GiuseppeDiGuglielmo/catapult_compare_releases)"
   ]
  },
  {
   "cell_type": "code",
   "execution_count": null,
   "id": "2454ded4-e743-4fc5-a3fa-d983e3532cbf",
   "metadata": {},
   "outputs": [],
   "source": [
    "# Path to the Catapult installation directory\n",
    "!echo $MGC_HOME"
   ]
  },
  {
   "cell_type": "code",
   "execution_count": null,
   "id": "2a988cad-92ca-48d1-b41e-42f66680e23f",
   "metadata": {},
   "outputs": [],
   "source": [
    "# Path to the hls4ml installation directory\n",
    "# It can be point to either the Catapult installation directory or a copy of Siemens/Official GitHub repo \n",
    "!echo $PYTHONPATH"
   ]
  },
  {
   "cell_type": "markdown",
   "id": "2fdb885d-f40f-4e45-acfd-7f484ad884ac",
   "metadata": {},
   "source": [
    "## Import libraries"
   ]
  },
  {
   "cell_type": "markdown",
   "id": "311ac2ea-c38d-417f-8b97-50757b7047b3",
   "metadata": {},
   "source": [
    "Disable some console warnings on the ASIC-group servers"
   ]
  },
  {
   "cell_type": "code",
   "execution_count": null,
   "id": "a4e11df6-297c-4844-96a8-2fde9033f470",
   "metadata": {},
   "outputs": [],
   "source": [
    "!rm -rf myproject_hls4ml_prj*"
   ]
  },
  {
   "cell_type": "code",
   "execution_count": null,
   "id": "c5905953-fd47-4806-b2cc-0f720ad3ce55",
   "metadata": {},
   "outputs": [],
   "source": [
    "import os"
   ]
  },
  {
   "cell_type": "raw",
   "id": "4fcaad16-4960-4f57-ae02-c6e73b8c32cc",
   "metadata": {},
   "source": [
    "os.environ[\"TF_XLA_FLAGS\"] = \"--tf_xla_enable_xla_devices\"\n",
    "os.environ[\"TF_CPP_MIN_LOG_LEVEL\"] = \"3\""
   ]
  },
  {
   "cell_type": "code",
   "execution_count": null,
   "id": "2c2a0054-f404-4b47-b14f-263808e49c44",
   "metadata": {},
   "outputs": [],
   "source": [
    "import hls4ml\n",
    "\n",
    "import numpy as np\n",
    "import math\n",
    "import yaml\n",
    "import json\n",
    "# from tensorflow.keras.models import Model\n",
    "from models import CreateModel\n",
    "\n",
    "from matplotlib import colors\n",
    "\n",
    "from loss import *\n",
    "from qkeras import quantized_bits\n",
    "\n",
    "import matplotlib.pyplot as plt"
   ]
  },
  {
   "cell_type": "markdown",
   "id": "6a4d69b3-4061-4670-aabd-d17d9078316a",
   "metadata": {},
   "source": [
    "## Set parameters"
   ]
  },
  {
   "cell_type": "code",
   "execution_count": null,
   "id": "ca3efcab-64b7-4020-ba46-e4f00bbb028f",
   "metadata": {},
   "outputs": [],
   "source": [
    "# Enable batch normalization in the model (True, False)\n",
    "batch_norm_enabled = False\n",
    "# True = use all of the time slices, False = use a subset of the timeslices\n",
    "timeslices_all_enable = False\n",
    "\n",
    "batch_size = 1000"
   ]
  },
  {
   "cell_type": "code",
   "execution_count": null,
   "id": "67c378b0-0001-4345-a25a-803796d5f042",
   "metadata": {},
   "outputs": [],
   "source": [
    "# See: https://docs.google.com/document/d/1ZoqVyJOOAXhzt2egMWh3OoNJ6lWq5lNR6sjcYON4Vlo/edit?tab=t.0#heading=h.k6tyal7z5t5l\n",
    "dataset_name = \"dataset_2s\"\n",
    "# 50x12.5x100 micron pixel sensor => 13x21 pixel sensor array\n",
    "sensor_geometry_name = \"50x12P5x100\"\n",
    "# Either 20 or 2 timeslices\n",
    "timeslices_name = \"timeslices20\" if timeslices_all_enable else \"timeslices2\"\n",
    "timeslices_val = -1 if timeslices_all_enable else [0, 19]\n",
    "#\n",
    "batch_size_name = f\"bs{batch_size}\""
   ]
  },
  {
   "cell_type": "code",
   "execution_count": null,
   "id": "8cc491d5-2eb1-4715-8d60-9bc17dc119d5",
   "metadata": {},
   "outputs": [],
   "source": [
    "# You can define a JSON configuration file locally\n",
    "# {\n",
    "#    \"data_base_dir\": \"/data/dajiang/smartPixels\",\n",
    "#    \"tfrecords_base_dir\" : \"/data/dajiang/smartPixels\",\n",
    "#    \"model_base_dir\": \"/home/dajiang/smart-pixels-ml/weights\"\n",
    "# }\n",
    "config_file_path = 'config.json'\n",
    "\n",
    "# If the file does not exist, the notebook uses default values for those entries\n",
    "data_base_dir = \"/data/dajiang/smartPixels/dataset_2s\"\n",
    "tfrecords_base_dir = \"/data/dajiang/smartPixels/tfrecords\"\n",
    "npy_base_dir = \"/data/dajiang/smartPixels/npy\"\n",
    "model_base_dir = \"/home/dajiang/smart-pixels-ml/weights\"\n",
    "\n",
    "if os.path.exists(config_file_path):\n",
    "    with open(config_file_path, 'r') as file:\n",
    "        data = json.load(file)\n",
    "        data_base_dir = data.get('data_base_dir')\n",
    "        tfrecords_base_dir = data.get('tfrecords_base_dir')\n",
    "        npy_base_dir = data.get('npy_base_dir')\n",
    "        model_base_dir = data.get('model_base_dir')\n",
    "    print(f\"Use config info from file: {data_base_dir}, {tfrecords_base_dir}, {npy_base_dir}, {model_base_dir}\")\n",
    "else:\n",
    "    print(f\"File does not exist. Use default config info: {data_base_dir}, {tfrecords_base_dir}, {npy_base_dir}, {model_base_dir}\")"
   ]
  },
  {
   "cell_type": "code",
   "execution_count": null,
   "id": "3ea983a5-6483-4ad9-a396-36dcbdd66e0b",
   "metadata": {},
   "outputs": [],
   "source": [
    "model_name = f\"{dataset_name}_{sensor_geometry_name}_{timeslices_name}_{batch_size_name}\" + (\"_bnorm\" if batch_norm_enabled else \"\")\n",
    "\n",
    "best_model_weights_hdf5 = f\"{model_base_dir}/weights_7pitches/best_model_{model_name}_weights.hdf5\"\n",
    "best_model_architecture_json = f\"{model_base_dir}/weights_7pitches/best_model_{model_name}_architecture.json\"\n",
    "best_model_hdf5 = f\"{model_base_dir}/weights_7pitches/best_model_{model_name}.hdf5\""
   ]
  },
  {
   "cell_type": "code",
   "execution_count": null,
   "id": "eca882e0-4ffa-44af-840b-350727fc0a73",
   "metadata": {},
   "outputs": [],
   "source": [
    "# TODO: Set the right precision\n",
    "FXD_W = 4 # Fixed-point precision, word bit width\n",
    "FXD_I = 1 # Fixed-point precision, integer-part bit width"
   ]
  },
  {
   "cell_type": "markdown",
   "id": "d8e37667-3b1e-40e1-b118-7e2505cd799e",
   "metadata": {},
   "source": [
    "## Load data"
   ]
  },
  {
   "cell_type": "code",
   "execution_count": null,
   "id": "2f17bc33-9155-4585-8b10-fd25fb1a7c28",
   "metadata": {},
   "outputs": [],
   "source": [
    "batch_size = 100\n",
    "\n",
    "X = np.load(f'{npy_base_dir}/X_{timeslices_name}_val.npy')[:batch_size,]\n",
    "y = np.load(f'{npy_base_dir}/y_{timeslices_name}_val.npy')[:batch_size,]"
   ]
  },
  {
   "cell_type": "markdown",
   "id": "287d12b5-5403-4a6d-89c5-01fd9ad3f1ed",
   "metadata": {},
   "source": [
    "### Visualize data"
   ]
  },
  {
   "cell_type": "code",
   "execution_count": null,
   "id": "9a4b6a17-f2b3-497f-9c44-dcc9ac5dbee2",
   "metadata": {},
   "outputs": [],
   "source": [
    "def plot_event(X, index):\n",
    "    if index < 0 or index >= X.shape[0]:\n",
    "        print(\"Index out of range. Please provide a valid index.\")\n",
    "        return\n",
    "\n",
    "    slices_num = X[index].shape[2]\n",
    "    \n",
    "    fig, axes = plt.subplots(1, slices_num, figsize=(8, 4))\n",
    "\n",
    "    divnorm = colors.TwoSlopeNorm(vmin=-1., vcenter=0., vmax=8.5)\n",
    "    \n",
    "    img1 = axes[0].imshow(X[index, :, :, 0], interpolation='nearest', origin='lower', cmap='bwr', norm=divnorm)\n",
    "    axes[0].set_title(f'Event: {index} - Slice 1')\n",
    "    axes[0].set_xticks(range(0, X.shape[2], max(1, X.shape[2] // 5)))\n",
    "    axes[0].set_yticks(range(0, X.shape[1], max(1, X.shape[1] // 5)))\n",
    "\n",
    "    img2 = axes[1].imshow(X[index, :, :, 1], interpolation='nearest', origin='lower', cmap='bwr', norm=divnorm)\n",
    "    axes[1].set_title(f'Event: {index} - Slice 2')\n",
    "    axes[1].set_xticks(range(0, X.shape[2], max(1, X.shape[2] // 5)))\n",
    "    axes[1].set_yticks(range(0, X.shape[1], max(1, X.shape[1] // 5)))\n",
    "\n",
    "    plt.show()\n",
    "\n",
    "# Plot some images\n",
    "for i in range(2):\n",
    "    plot_event(X, i)"
   ]
  },
  {
   "cell_type": "markdown",
   "id": "b14d7d76-716e-4351-9984-a9122932abcc",
   "metadata": {},
   "source": [
    "### Quantize data"
   ]
  },
  {
   "cell_type": "raw",
   "id": "54a89b26-4747-431c-b9a1-2e7e8b1bb0e3",
   "metadata": {},
   "source": [
    "quantized_X = quantized_bits(FXD_W, FXD_I-1, alpha=1)(X).numpy()"
   ]
  },
  {
   "cell_type": "markdown",
   "id": "52ba246f-3201-4577-b406-917a210853a9",
   "metadata": {},
   "source": [
    "## QKeras model"
   ]
  },
  {
   "cell_type": "markdown",
   "id": "c75c0956-4409-4b9b-aed1-e959090fbf01",
   "metadata": {},
   "source": [
    "### Load QKeras model"
   ]
  },
  {
   "cell_type": "code",
   "execution_count": null,
   "id": "f3069d57-0482-4352-8050-290d0c17a9b7",
   "metadata": {},
   "outputs": [],
   "source": [
    "# Load the whole model from HDF5 file\n",
    "from tensorflow.keras.models import load_model\n",
    "from qkeras.utils import _add_supported_quantized_objects\n",
    "\n",
    "co = {\"custom_loss\": custom_loss}\n",
    "_add_supported_quantized_objects(co)\n",
    "model = load_model(best_model_hdf5, custom_objects=co)\n",
    "model.summary()"
   ]
  },
  {
   "cell_type": "code",
   "execution_count": null,
   "id": "c5e4879e-d3d3-48eb-be49-23c29472f53d",
   "metadata": {},
   "outputs": [],
   "source": [
    "# TODO: This gives an error:\n",
    "# ValueError: Layer count mismatch when loading weights from file. Model expected 5 layers, found 9 saved layers.\n",
    "#\n",
    "# # Load model weights from HDF5 file, while recreate architecture from scripts\n",
    "# model = CreateModel((13,21,2), n_filters=5, pool_size=3)\n",
    "# model.load_weights(best_model_weights_hdf5)\n",
    "# model.summary()"
   ]
  },
  {
   "cell_type": "markdown",
   "id": "b526dfa2-cb84-430f-ace0-b4da8e610e51",
   "metadata": {},
   "source": [
    "### Slice QKeras model"
   ]
  },
  {
   "cell_type": "code",
   "execution_count": null,
   "id": "743aa20c-b395-4eae-88ec-14e41e0a141f",
   "metadata": {},
   "outputs": [],
   "source": [
    "# SLICE_TO_LAYER_NUM = 12\n",
    "# print(\"Layer count: {}/{}\".format(SLICE_TO_LAYER_NUM, len(model.layers)-1))\n",
    "# assert(SLICE_TO_LAYER_NUM < len(model.layers))\n",
    "# model = Model(inputs=model.input, \n",
    "#                   outputs=model.layers[SLICE_TO_LAYER_NUM].output)"
   ]
  },
  {
   "cell_type": "code",
   "execution_count": null,
   "id": "3fc89546-2203-41fa-a800-c41f6d52900f",
   "metadata": {},
   "outputs": [],
   "source": [
    "# model.summary()"
   ]
  },
  {
   "cell_type": "code",
   "execution_count": null,
   "id": "27fe6fb8",
   "metadata": {},
   "outputs": [],
   "source": [
    "# from tensorflow.keras.utils import plot_model\n",
    "# plot_model(model, to_file=\"model.png\", show_shapes=True, show_layer_names=True)"
   ]
  },
  {
   "cell_type": "markdown",
   "id": "c6886474-7b5a-4604-8880-bbba4db689b7",
   "metadata": {},
   "source": [
    "### Run QKeras model"
   ]
  },
  {
   "cell_type": "markdown",
   "id": "b6c19f3b-4ec4-41b0-8a05-942e56fde9ef",
   "metadata": {},
   "source": [
    "#### Prediction"
   ]
  },
  {
   "cell_type": "code",
   "execution_count": null,
   "id": "f966e334-4d41-4f01-b0c7-71b7bc66aa2c",
   "metadata": {
    "scrolled": true
   },
   "outputs": [],
   "source": [
    "y_qkeras = model.predict(np.ascontiguousarray(X))"
   ]
  },
  {
   "cell_type": "markdown",
   "id": "73abc0f0-ccb9-4d18-95ab-2289032174db",
   "metadata": {},
   "source": [
    "#### Profiling"
   ]
  },
  {
   "cell_type": "code",
   "execution_count": null,
   "id": "3467ab2e-3355-4df2-82be-0ac8ffd09875",
   "metadata": {},
   "outputs": [],
   "source": [
    "qkeras_trace = hls4ml.model.profiling.get_ymodel_keras(model, X)"
   ]
  },
  {
   "cell_type": "markdown",
   "id": "13514e92",
   "metadata": {},
   "source": [
    "#### Save .dat files"
   ]
  },
  {
   "cell_type": "code",
   "execution_count": null,
   "id": "979ec5ae",
   "metadata": {},
   "outputs": [],
   "source": [
    "# Save input features and model predictions just the top 20\n",
    "np.savetxt(\"tb_input_features.dat\", X.reshape(batch_size, -1), fmt=\"%f\")\n",
    "np.savetxt(\"tb_output_predictions.dat\", y_qkeras, fmt=\"%f\")\n",
    "#np.savetxt(\"y_test_labels.dat\", y_test, fmt=\"%d\")"
   ]
  },
  {
   "cell_type": "markdown",
   "id": "9ba40be0-aa45-4e6f-a384-a56fce823ccf",
   "metadata": {},
   "source": [
    "## hls4ml model"
   ]
  },
  {
   "cell_type": "markdown",
   "id": "5c8f3595-8462-4799-b8fb-cb97a8e15566",
   "metadata": {},
   "source": [
    "### Configure hls4ml model"
   ]
  },
  {
   "cell_type": "code",
   "execution_count": null,
   "id": "b04679e0-4bef-47a7-9df2-29fe124a9cec",
   "metadata": {},
   "outputs": [],
   "source": [
    "config_ccs = hls4ml.utils.config.create_config(\n",
    "    backend = \"Catapult\",\n",
    "    project_name = \"myproject\",\n",
    "    output_dir = \"myproject_hls4ml_prj\",\n",
    "    tech = \"asic\",\n",
    "    asiclibs = \"saed32rvt_tt0p78v125c_beh\",\n",
    "    asicfifo = \"hls4ml_lib.mgc_pipe_mem\",\n",
    "    clock_period = 10,\n",
    "    #io_type = \"io_stream\",\n",
    "    io_type = \"io_parallel\",\n",
    "    csim=0, SCVerify=0, Synth=1\n",
    ")\n",
    "#print(config_ccs)"
   ]
  },
  {
   "cell_type": "code",
   "execution_count": null,
   "id": "3a619c30-6145-4352-805f-41ed07bb67b6",
   "metadata": {},
   "outputs": [],
   "source": [
    "config_ccs[\"HLSConfig\"] = hls4ml.utils.config_from_keras_model(\n",
    "    model,\n",
    "    granularity=\"name\",\n",
    "    default_precision=\"ac_fixed<16,6,true>\",\n",
    "    default_reuse_factor=1\n",
    ")\n",
    "\n",
    "# NOTE: fine tune average-pooling-2d\n",
    "# TODO: Can this be fixed directly in the average-pooling-2d implementation?\n",
    "config_ccs[\"HLSConfig\"]['LayerName']['average_pooling2d']['Precision']['result'] = 'fixed<12,1>'\n",
    "\n",
    "# Point to the model definition, weights/biase values and C++ testbench data files\n",
    "config_ccs[\"KerasH5\"] = best_model_weights_hdf5\n",
    "config_ccs[\"KerasJson\"] = best_model_architecture_json\n",
    "config_ccs[\"InputData\"] = \"tb_input_features.dat\"\n",
    "config_ccs[\"OutputPredictions\"] = \"tb_output_predictions.dat\""
   ]
  },
  {
   "cell_type": "code",
   "execution_count": null,
   "id": "6a81200e-f8b8-4eef-aa88-57d01dd6dfd1",
   "metadata": {},
   "outputs": [],
   "source": [
    "# TODO: is this necessary?\n",
    "with open(\"myproject_config.yml\", \"w\") as yaml_file:\n",
    "    yaml.dump(config_ccs, yaml_file, explicit_start=False, default_flow_style=False)"
   ]
  },
  {
   "cell_type": "code",
   "execution_count": null,
   "id": "01cc01af-6ba3-4bd9-8706-e11a2e042fd1",
   "metadata": {},
   "outputs": [],
   "source": [
    "# Enable tracing for all of the layers\n",
    "for layer in config_ccs[\"HLSConfig\"][\"LayerName\"].keys():\n",
    "    print(\"Enable tracing for layer:\", layer)\n",
    "    config_ccs[\"HLSConfig\"][\"LayerName\"][layer][\"Trace\"] = True"
   ]
  },
  {
   "cell_type": "code",
   "execution_count": null,
   "id": "ed56d487-7dc4-4742-8808-c6f0a4cb3f5e",
   "metadata": {},
   "outputs": [],
   "source": [
    "# Convert QKeras model to Catapult HLS C++\n",
    "hls_model_ccs = hls4ml.converters.keras_to_hls(config_ccs)"
   ]
  },
  {
   "cell_type": "code",
   "execution_count": null,
   "id": "33c60a0b-dfaa-427a-8791-e8d56a526cc7",
   "metadata": {
    "scrolled": true
   },
   "outputs": [],
   "source": [
    "hls4ml.utils.plot_model(hls_model_ccs, show_shapes=True, show_precision=True, to_file=\"qkeras.png\")\n",
    "hls4ml.utils.plot_model(hls_model_ccs, show_shapes=True, show_precision=True, to_file=None)"
   ]
  },
  {
   "cell_type": "code",
   "execution_count": null,
   "id": "dd4767a7-e114-4ae2-91a0-ae1c3c82a3e5",
   "metadata": {},
   "outputs": [],
   "source": [
    "# Writing HLS project\n",
    "hls_model_ccs.compile()"
   ]
  },
  {
   "cell_type": "markdown",
   "id": "42c8015f-94b9-4cab-9c61-1b33a30b30b7",
   "metadata": {},
   "source": [
    "### Run hls4ml model"
   ]
  },
  {
   "cell_type": "markdown",
   "id": "bccb606c-62de-42a6-aced-ba7eef729253",
   "metadata": {},
   "source": [
    "#### Prediction"
   ]
  },
  {
   "cell_type": "code",
   "execution_count": null,
   "id": "5ecb6031-54a2-49b9-89d6-dde566a41ecb",
   "metadata": {},
   "outputs": [],
   "source": [
    "y_ccs = hls_model_ccs.predict(np.ascontiguousarray(X))"
   ]
  },
  {
   "cell_type": "markdown",
   "id": "9148f445-b977-4b16-b590-aadef11f6d9e",
   "metadata": {},
   "source": [
    "#### Profiling"
   ]
  },
  {
   "cell_type": "code",
   "execution_count": null,
   "id": "f74ce844-8477-4020-8c97-77688489a230",
   "metadata": {},
   "outputs": [],
   "source": [
    "# Run tracing on the test set for the hls4ml model (fixed-point precision) \n",
    "pred_ccs, trace_ccs = hls_model_ccs.trace(X)"
   ]
  },
  {
   "cell_type": "markdown",
   "id": "20f678c0-6a6d-468f-b988-3f25c8bea203",
   "metadata": {},
   "source": [
    "## Compare QKeras and hls4ml"
   ]
  },
  {
   "cell_type": "raw",
   "id": "5053bb1f-4267-4da4-ba18-7492f1d71b91",
   "metadata": {},
   "source": [
    "print(y_qkeras[0].flatten())\n",
    "print(y_ccs)"
   ]
  },
  {
   "cell_type": "markdown",
   "id": "41f2a311-03f4-40db-9749-ad1992289a83",
   "metadata": {},
   "source": [
    "#### Trace visual inspection"
   ]
  },
  {
   "cell_type": "code",
   "execution_count": null,
   "id": "d5945f5b-3a82-4193-a1b6-4bcbd77e524a",
   "metadata": {},
   "outputs": [],
   "source": [
    "# Print the traces on console\n",
    "N_ELEMENTS = 16\n",
    "\n",
    "# Backup print options\n",
    "bkp_threshold = np.get_printoptions()[\"threshold\"]\n",
    "bkp_linewidth = np.get_printoptions()[\"linewidth\"]\n",
    "\n",
    "# Set print options\n",
    "np.set_printoptions(threshold=np.inf, linewidth=np.inf)\n",
    "\n",
    "# print(trace_ccs.keys())\n",
    "# print(qkeras_trace.keys())\n",
    "for key in trace_ccs.keys():\n",
    "    if key == \"q_separable_conv2d_depthwise\":\n",
    "        continue\n",
    "    print(\"-------\")\n",
    "    print(key.replace(\"_pointwise\", \"\"), trace_ccs[key].shape)\n",
    "    print(\"[keras] \", key.replace(\"_pointwise\", \"\"), qkeras_trace[key.replace(\"_pointwise\", \"\")].flatten()[:N_ELEMENTS])\n",
    "    print(\"[hls4ml]\", key.replace(\"_pointwise\", \"\"), trace_ccs[key].flatten()[:N_ELEMENTS])\n",
    "    \n",
    "# Restore print options\n",
    "np.set_printoptions(threshold=bkp_threshold, linewidth=bkp_linewidth)"
   ]
  },
  {
   "cell_type": "markdown",
   "id": "79e268e2-ed27-4861-bbed-863cfd82855c",
   "metadata": {},
   "source": [
    "#### MSE per layer"
   ]
  },
  {
   "cell_type": "code",
   "execution_count": null,
   "id": "5d217387-b8ef-4bf0-998b-cbf5e1ca3a95",
   "metadata": {},
   "outputs": [],
   "source": [
    "def mse(actual, predicted):\n",
    "    return ((actual - predicted) ** 2).mean()\n",
    "\n",
    "for key in trace_ccs.keys():\n",
    "    if key == \"q_separable_conv2d_depthwise\":\n",
    "        continue\n",
    "    print(\"-------\")\n",
    "    print(\"MSE {} {}\".format(key.replace(\"_pointwise\", \"\"), mse(trace_ccs[key].flatten(), qkeras_trace[key.replace(\"_pointwise\", \"\")].flatten())))"
   ]
  },
  {
   "cell_type": "markdown",
   "id": "e91eee55-21e0-45fc-b6f9-f704bb52943f",
   "metadata": {},
   "source": [
    "#### Parity plots"
   ]
  },
  {
   "cell_type": "markdown",
   "id": "55da6dfc-81fb-4910-9116-a29eb2502d3c",
   "metadata": {},
   "source": [
    "We use [parity plots](https://en.wikipedia.org/wiki/Parity_plot) to compare _hls4ml_ and QKeras implementations of each layer.\n",
    "- If the _hls4ml_ implementation is accurate (i.e. matches QKeras implementation), the ouput values should lie close to the diagonal line `y=x`, indicating equivalence.\n",
    "- Deviations from this line highlight inaccuracies or implementation errors."
   ]
  },
  {
   "cell_type": "raw",
   "id": "1782ad2b-bb28-4176-9ef9-302744ccf1bd",
   "metadata": {},
   "source": [
    "# Evaluate parity plots\n",
    "for layer in trace_ccs.keys():\n",
    "    if \"_alpha\" in layer:\n",
    "        continue\n",
    "    if layer == \"q_separable_conv2d_depthwise\":\n",
    "        continue        \n",
    "    plt.figure()\n",
    "    klayer = layer.replace(\"_pointwise\", \"\")\n",
    "    if \"_linear\" in layer:\n",
    "        klayer = layer.replace(\"_linear\", \"\")\n",
    "    min_x = min(np.amin(trace_ccs[layer]), np.amin(qkeras_trace[klayer]))\n",
    "    max_x = max(np.amax(trace_ccs[layer]), np.amax(qkeras_trace[klayer]))\n",
    "    golden_min_x = np.amin(qkeras_trace[klayer])\n",
    "    golden_max_x = np.amax(qkeras_trace[klayer])\n",
    "    print(\"{}, range [{}, {}], range {}, bits {}\".format(layer, golden_min_x, golden_max_x, abs(golden_min_x) + abs(golden_max_x), math.ceil(math.log2(abs(golden_min_x) + abs(golden_max_x)))))\n",
    "    plt.plot([min_x, max_x], [min_x, max_x], c=\"gray\")\n",
    "    plt.scatter(trace_ccs[layer].flatten(), qkeras_trace[klayer].flatten(), s=0.2, c=\"red\")\n",
    "    plt.xlabel(\"hls4ml {}\".format(layer))\n",
    "    plt.ylabel(\"QKeras {}\".format(klayer))\n"
   ]
  },
  {
   "cell_type": "code",
   "execution_count": null,
   "id": "09f57288-3de9-46e6-85c7-3c12b03d3778",
   "metadata": {},
   "outputs": [],
   "source": [
    "layers = [layer for layer in trace_ccs.keys() if \"_alpha\" not in layer and layer != \"q_separable_conv2d_depthwise\"]\n",
    "num_layers = len(layers)\n",
    "\n",
    "num_columns = 2\n",
    "num_rows = math.ceil(num_layers / num_columns)\n",
    "\n",
    "fig, axes = plt.subplots(num_rows, num_columns, figsize=(12, 6 * num_rows))\n",
    "axes = axes.flatten()  # Flatten the axes array for easier indexing\n",
    "\n",
    "# Loop through layers and plot\n",
    "for i, layer in enumerate(layers):\n",
    "    klayer = layer.replace(\"_pointwise\", \"\").replace(\"_linear\", \"\")\n",
    "\n",
    "    min_x = min(np.amin(trace_ccs[layer]), np.amin(qkeras_trace[klayer]))\n",
    "    max_x = max(np.amax(trace_ccs[layer]), np.amax(qkeras_trace[klayer]))\n",
    "\n",
    "    x = trace_ccs[layer].flatten()\n",
    "    y = qkeras_trace[klayer].flatten()\n",
    "\n",
    "    golden_min_x = np.amin(qkeras_trace[klayer])\n",
    "    golden_max_x = np.amax(qkeras_trace[klayer])\n",
    "    range_size = abs(golden_min_x) + abs(golden_max_x)\n",
    "    integer_bits = math.ceil(math.log2(range_size))\n",
    "    min_abs_value = np.min(np.abs(qkeras_trace[klayer][qkeras_trace[klayer] != 0]))\n",
    "    if min_abs_value > 0:\n",
    "        decimal_bits = abs(math.floor(math.log2(min_abs_value)))\n",
    "    else:\n",
    "        decimal_bits = 0  # If no non-zero value exists\n",
    "    mse_value = np.mean((x - y) ** 2)\n",
    "\n",
    "    ax = axes[i]\n",
    "    ax.plot([min_x, max_x], [min_x, max_x], color=\"gray\", linestyle=\"--\", label=\"Diagonal\")\n",
    "    scatter = ax.scatter(x, y, s=0.2, color=\"red\", label=\"Data Points\")\n",
    "    \n",
    "    stats_text = (\n",
    "        f\"Range: [{golden_min_x:.2f}, {golden_max_x:.2f}]\\n\"\n",
    "        f\"Range Size: {range_size:.2f}\\n\"\n",
    "        f\"Bits (I): {integer_bits}\\n\"\n",
    "        f\"Bits (D): {decimal_bits}\\n\"\n",
    "        f\"MSE: {mse_value:.2e}\"\n",
    "    )\n",
    "    ax.text(\n",
    "        0.05, 0.95, stats_text,\n",
    "        transform=ax.transAxes,\n",
    "        fontsize=10,\n",
    "        verticalalignment='top',\n",
    "        bbox=dict(boxstyle=\"round,pad=0.3\", edgecolor=\"black\", facecolor=\"white\")\n",
    "    )\n",
    "\n",
    "    ax.set_xlabel(f\"hls4ml {layer}\")\n",
    "    ax.set_ylabel(f\"QKeras {klayer}\")\n",
    "    ax.set_title(f\"Comparison QKeras vs. hls4ml ({klayer})\")\n",
    "    ax.grid(True)\n",
    "\n",
    "# Remove empty subplots\n",
    "for j in range(i + 1, len(axes)):\n",
    "    fig.delaxes(axes[j])\n",
    "\n",
    "# Adjust layout to prevent overlap\n",
    "plt.tight_layout()\n",
    "\n",
    "plt.savefig(\"comparison_qkeras_hls4m.jpeg\")\n",
    "plt.show()\n"
   ]
  },
  {
   "cell_type": "markdown",
   "id": "19f419d4-fa82-46da-80f5-2e8ab882618c",
   "metadata": {},
   "source": [
    "## Model synthesis"
   ]
  },
  {
   "cell_type": "code",
   "execution_count": null,
   "id": "f4b8272b-4701-42af-8499-eab8fcdf6a74",
   "metadata": {},
   "outputs": [],
   "source": [
    "%%time\n",
    "\n",
    "# TODO: Check the parameters for the build function (Catapult)\n",
    "\n",
    "#report = hls_model.build(csim=True, synth=False, cosim=False, validation=False, export=False, vsynth=False, reset=False)\n",
    "report = hls_model_ccs.build(csim=True, synth=True, cosim=False, validation=False, export=False, vsynth=False, bup=False)"
   ]
  },
  {
   "cell_type": "markdown",
   "id": "21cf7400-0d17-45e7-b8fe-09e34cbcbcb6",
   "metadata": {},
   "source": [
    "### Results"
   ]
  },
  {
   "cell_type": "raw",
   "id": "52cfbec4-4c04-46ec-a251-5ccf97a124dd",
   "metadata": {},
   "source": [
    "import subprocess\n",
    "\n",
    "def run_command(cmd):\n",
    "    result = subprocess.run(cmd, stdout=subprocess.PIPE, stderr=subprocess.PIPE, text=True, shell=True)\n",
    "    return result.stdout, result.stderr\n",
    "\n",
    "def print_report(report, fpga_part = \"?\", vivado_version = \"?\", knobs = {}, hls = True, syn = True, cosim = True):\n",
    "    hls_results = report[\"CSynthesisReport\"]\n",
    "    syn_results = report[\"VivadoSynthReport\"]\n",
    "    cosim_results = report[\"CosimReport\"]\n",
    "    if hls:\n",
    "        print(\"-----------------------------------\")\n",
    "        print(\"Vivado version: {}\".format(vivado_version))\n",
    "        print(\"FPGA part:      {}\".format(fpga_part))\n",
    "        print(\"Knobs:          {}\".format(knobs))\n",
    "        print(\"-----------------------------------\")\n",
    "        print(\"HLS\")\n",
    "        print(\"Target Clock Period:    {} ns\".format(hls_results[\"TargetClockPeriod\"]))\n",
    "        print(\"Estimated Clock Period: {} ns\".format(hls_results[\"EstimatedClockPeriod\"]))\n",
    "        print(\"Best/Worst Latency: {} / {}\".format(hls_results[\"BestLatency\"], hls_results[\"WorstLatency\"]))\n",
    "        print(\"Interval Min/Max:   {} / {}\".format(hls_results[\"IntervalMin\"], hls_results[\"IntervalMax\"]))\n",
    "        print(\"BRAM_18K:           {}, {:0.1f}% (Aval. {})\".format(hls_results[\"BRAM_18K\"], float(hls_results[\"BRAM_18K\"])*100.0/int(hls_results[\"AvailableBRAM_18K\"]), hls_results[\"AvailableBRAM_18K\"]))\n",
    "        print(\"DSP:                {}, {:0.1f}% (Aval. {})\".format(hls_results[\"DSP\"], float(hls_results[\"DSP\"])*100.0/int(hls_results[\"AvailableDSP\"]), hls_results[\"AvailableDSP\"]))\n",
    "        print(\"FF:                 {}, {:0.1f}% (Aval. {})\".format(hls_results[\"FF\"], float(hls_results[\"FF\"])*100.0/int(hls_results[\"AvailableFF\"]), hls_results[\"AvailableFF\"]))\n",
    "        print(\"LUT:                {}, {:0.1f}% (Aval. {})\".format(hls_results[\"LUT\"], float(hls_results[\"LUT\"])*100.0/int(hls_results[\"AvailableLUT\"]), hls_results[\"AvailableLUT\"]))\n",
    "        #print(\"URAM:                   {}, {} (Aval. {})\".format(hls_results[\"URAM\"], int(hls_results[\"URAM\"])*100.0/int(hls_results[\"AvailableURAM\"]), hls_results[\"AvailableURAM\"]))\n",
    "    if syn:\n",
    "        print(\"-----------------------------------\")\n",
    "        print(\"Synthesis\")\n",
    "        print(\"BRAM_18K:           {}, {:0.1f}% (Aval. {})\".format(syn_results[\"BRAM_18K\"], float(syn_results[\"BRAM_18K\"])*100.0/int(hls_results[\"AvailableBRAM_18K\"]), hls_results[\"AvailableBRAM_18K\"]))\n",
    "        print(\"DSP:                {}, {:0.1f}% (Aval. {})\".format(syn_results[\"DSP48E\"], float(syn_results[\"DSP48E\"])*100.0/int(hls_results[\"AvailableDSP\"]), hls_results[\"AvailableDSP\"]))\n",
    "        print(\"FF:                 {}, {:0.1f}% (Aval. {})\".format(syn_results[\"FF\"], float(syn_results[\"FF\"])*100.0/int(hls_results[\"AvailableFF\"]), hls_results[\"AvailableFF\"]))\n",
    "        print(\"LUT:                {}, {:0.1f}% (Aval. {})\".format(syn_results[\"LUT\"], float(syn_results[\"LUT\"])*100.0/int(hls_results[\"AvailableLUT\"]), hls_results[\"AvailableLUT\"]))\n",
    "    if syn:\n",
    "        print(\"-----------------------------------\")\n",
    "        print(\"Cosimulation\")\n",
    "        print(\"Max/Min Latency:    {} / {}\".format(cosim_results[\"LatencyMax\"], cosim_results[\"LatencyMin\"]))\n",
    "        print(\"Avg Latency:        {}\".format(cosim_results[\"LatencyAvg\"]))\n",
    "        print(\"Max/Min Interval:   {} / {}\".format(cosim_results[\"IntervalMax\"], cosim_results[\"IntervalMin\"]))\n",
    "        print(\"Avg Interval:       {}\".format(cosim_results[\"IntervalAvg\"]))\n",
    "    print(\"-----------------------------------\")"
   ]
  },
  {
   "cell_type": "raw",
   "id": "8ce63271-ecdc-4145-9613-129a1f65d467",
   "metadata": {},
   "source": [
    "print_report(report,\n",
    "    fpga_part=\"xcu250-figd2104-2L-e\",\n",
    "    vivado_version=vivado_version,\n",
    "    knobs = {\"backend\" : BACKEND, \"io_type\" : IO_TYPE, \"strategy\" : STRATEGY}\n",
    ")"
   ]
  }
 ],
 "metadata": {
  "kernelspec": {
   "display_name": "Python 3 (ipykernel)",
   "language": "python",
   "name": "python3"
  },
  "language_info": {
   "codemirror_mode": {
    "name": "ipython",
    "version": 3
   },
   "file_extension": ".py",
   "mimetype": "text/x-python",
   "name": "python",
   "nbconvert_exporter": "python",
   "pygments_lexer": "ipython3",
   "version": "3.10.14"
  },
  "toc": {
   "base_numbering": 1,
   "nav_menu": {},
   "number_sections": true,
   "sideBar": true,
   "skip_h1_title": false,
   "title_cell": "Table of Contents",
   "title_sidebar": "Contents",
   "toc_cell": false,
   "toc_position": {},
   "toc_section_display": true,
   "toc_window_display": false
  }
 },
 "nbformat": 4,
 "nbformat_minor": 5
}
